{
 "cells": [
  {
   "cell_type": "code",
   "execution_count": 1,
   "id": "448c1a29",
   "metadata": {},
   "outputs": [],
   "source": [
    "import pickle\n",
    "import numpy as np\n",
    "import pandas as pd\n",
    "import matplotlib.pyplot as plt\n",
    "# from sklearn.preprocessing import MinMaxScaler\n",
    "from sklearn import metrics\n",
    "from sklearn.metrics import confusion_matrix\n",
    "from sklearn.ensemble import IsolationForest, RandomForestClassifier\n",
    "from tqdm import tqdm\n",
    "\n",
    "# import torch\n",
    "# import torch.nn as nn\n",
    "# import torch.optim as optim\n",
    "\n",
    "import seaborn as sns\n",
    "sns.set(font_scale=2)"
   ]
  },
  {
   "cell_type": "code",
   "execution_count": 2,
   "id": "a05f1368",
   "metadata": {},
   "outputs": [],
   "source": [
    "path = \"../data/rf_data/\"\n",
    "packet = 5\n",
    "subflow = 5\n",
    "features = 11\n",
    "X_train_path = path+\"packet_\"+str(packet)+\"/n_\"+str(subflow)+\"/X_train_n_\"+str(subflow)+\".npy\"\n",
    "y_train_path = path+\"packet_\"+str(packet)+\"/n_\"+str(subflow)+\"/y_train_n_\"+str(subflow)+\".npy\"\n",
    "\n",
    "X_test_path = path+\"packet_\"+str(packet)+\"/n_\"+str(subflow)+\"/X_test_n_\"+str(subflow)+\".npy\"\n",
    "y_test_path = path+\"packet_\"+str(packet)+\"/n_\"+str(subflow)+\"/y_test_n_\"+str(subflow)+\".npy\"\n",
    "\n",
    "save_path = \"./artifacts/\"\n",
    "model_save_path = save_path+\"models/model_k_\"+str(packet)+\"_n_\"+str(subflow)+\"_f_\"+str(features*subflow)+\".pth\"\n",
    "scaler_save_path = save_path+\"scalers/scaler_k_\"+str(packet)+\"_n_\"+str(subflow)+\"_f_\"+str(features*subflow)+\".pkl\""
   ]
  },
  {
   "cell_type": "code",
   "execution_count": 3,
   "id": "185c54f0",
   "metadata": {},
   "outputs": [],
   "source": [
    "# This data is not normalized\n",
    "X_train = np.load(X_train_path, allow_pickle=True)\n",
    "y_train = np.load(y_train_path, allow_pickle=True)\n",
    "\n",
    "X_test = np.load(X_test_path, allow_pickle=True)\n",
    "y_test = np.load(y_test_path, allow_pickle=True)"
   ]
  },
  {
   "cell_type": "code",
   "execution_count": 4,
   "id": "e8dd2618",
   "metadata": {},
   "outputs": [
    {
     "data": {
      "text/plain": [
       "(array(['attack', 'benign'], dtype='<U6'), array([ 1985, 23925]))"
      ]
     },
     "execution_count": 4,
     "metadata": {},
     "output_type": "execute_result"
    }
   ],
   "source": [
    "np.unique(y_train, return_counts=True)"
   ]
  },
  {
   "cell_type": "markdown",
   "id": "4a106cf0",
   "metadata": {},
   "source": [
    "## IF"
   ]
  },
  {
   "cell_type": "code",
   "execution_count": 5,
   "id": "265afe2b",
   "metadata": {},
   "outputs": [],
   "source": [
    "clf = IsolationForest(random_state=1000, contamination=0.06).fit(X_train)"
   ]
  },
  {
   "cell_type": "code",
   "execution_count": 6,
   "id": "7619374d",
   "metadata": {},
   "outputs": [],
   "source": [
    "predictions = clf.predict(X_test)"
   ]
  },
  {
   "cell_type": "code",
   "execution_count": 7,
   "id": "63a1a3ab",
   "metadata": {},
   "outputs": [
    {
     "data": {
      "text/plain": [
       "array([-1, -1, -1, ..., -1,  1,  1])"
      ]
     },
     "execution_count": 7,
     "metadata": {},
     "output_type": "execute_result"
    }
   ],
   "source": [
    "predictions"
   ]
  },
  {
   "cell_type": "code",
   "execution_count": 8,
   "id": "f7ba65d2",
   "metadata": {},
   "outputs": [
    {
     "data": {
      "text/plain": [
       "array(['attack', 'attack', 'attack', ..., 'benign', 'benign', 'benign'],\n",
       "      dtype='<U6')"
      ]
     },
     "execution_count": 8,
     "metadata": {},
     "output_type": "execute_result"
    }
   ],
   "source": [
    "y_test"
   ]
  },
  {
   "cell_type": "code",
   "execution_count": 9,
   "id": "3cb3c5b9",
   "metadata": {},
   "outputs": [],
   "source": [
    "converted_preds = np.where(predictions==-1,\"attack\",\"benign\")"
   ]
  },
  {
   "cell_type": "code",
   "execution_count": 10,
   "id": "3bb555fb",
   "metadata": {},
   "outputs": [
    {
     "data": {
      "text/plain": [
       "array(['attack', 'attack', 'attack', ..., 'attack', 'benign', 'benign'],\n",
       "      dtype='<U6')"
      ]
     },
     "execution_count": 10,
     "metadata": {},
     "output_type": "execute_result"
    }
   ],
   "source": [
    "converted_preds"
   ]
  },
  {
   "cell_type": "code",
   "execution_count": 11,
   "id": "1c1fe286",
   "metadata": {},
   "outputs": [
    {
     "name": "stdout",
     "output_type": "stream",
     "text": [
      "Accuracy =  0.8866\n",
      "Precision =  0.5527\n",
      "Recall =  0.5455\n",
      "F1 =  0.5486\n"
     ]
    },
    {
     "data": {
      "text/plain": [
       "<AxesSubplot:>"
      ]
     },
     "execution_count": 11,
     "metadata": {},
     "output_type": "execute_result"
    },
    {
     "data": {
      "image/png": "[encoded data removed]",
      "text/plain": [
       "<Figure size 432x288 with 2 Axes>"
      ]
     },
     "metadata": {},
     "output_type": "display_data"
    }
   ],
   "source": [
    "#Print overall accuracy\n",
    "print(\"Accuracy = \", round(metrics.accuracy_score(y_test, converted_preds), 4))\n",
    "print(\"Precision = \", round(metrics.precision_score(y_test, converted_preds, average='macro'),4))\n",
    "print(\"Recall = \", round(metrics.recall_score(y_test, converted_preds, average='macro'),4))\n",
    "print(\"F1 = \", round(metrics.f1_score(y_test, converted_preds, average='macro'), 4))\n",
    "#Confusion Matrix - verify accuracy of each class\n",
    "cm = confusion_matrix(y_test, converted_preds) # tn, fp, fn, tp\n",
    "sns.heatmap(cm, annot=True, fmt='.10g')"
   ]
  },
  {
   "cell_type": "code",
   "execution_count": null,
   "id": "73f8689a",
   "metadata": {},
   "outputs": [],
   "source": []
  },
  {
   "cell_type": "code",
   "execution_count": null,
   "id": "218b0437",
   "metadata": {},
   "outputs": [],
   "source": []
  }
 ],
 "metadata": {
  "kernelspec": {
   "display_name": "Python 3 (ipykernel)",
   "language": "python",
   "name": "python3"
  },
  "language_info": {
   "codemirror_mode": {
    "name": "ipython",
    "version": 3
   },
   "file_extension": ".py",
   "mimetype": "text/x-python",
   "name": "python",
   "nbconvert_exporter": "python",
   "pygments_lexer": "ipython3",
   "version": "3.8.10"
  }
 },
 "nbformat": 4,
 "nbformat_minor": 5
}
