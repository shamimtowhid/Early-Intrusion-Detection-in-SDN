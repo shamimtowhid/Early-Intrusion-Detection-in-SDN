{
 "cells": [
  {
   "cell_type": "code",
   "execution_count": 1,
   "id": "e103d8ab",
   "metadata": {},
   "outputs": [],
   "source": [
    "import pickle\n",
    "import time\n",
    "import numpy as np\n",
    "import pandas as pd\n",
    "import matplotlib.pyplot as plt\n",
    "from collections import Counter\n",
    "from sklearn.preprocessing import MinMaxScaler, StandardScaler, LabelEncoder\n",
    "from sklearn import metrics\n",
    "from sklearn.metrics import confusion_matrix, classification_report\n",
    "from sklearn.ensemble import RandomForestClassifier\n",
    "from tqdm import tqdm\n",
    "\n",
    "import seaborn as sns\n",
    "sns.set(font_scale=2)"
   ]
  },
  {
   "cell_type": "code",
   "execution_count": 179,
   "id": "b98091a3",
   "metadata": {},
   "outputs": [],
   "source": [
    "path = \"../data/rf_data/\"\n",
    "packet = 4\n",
    "subflow = 5\n",
    "features = 11\n",
    "# X_train_path = path+\"packet_\"+str(packet)+\"/n_\"+str(subflow)+\"/X_train_n_\"+str(subflow)+\"_overlap.npy\"\n",
    "# y_train_path = path+\"packet_\"+str(packet)+\"/n_\"+str(subflow)+\"/y_train_n_\"+str(subflow)+\"_overlap.npy\"\n",
    "# X_test_path = path+\"packet_\"+str(packet)+\"/n_\"+str(subflow)+\"/X_test_n_\"+str(subflow)+\"_overlap.npy\"\n",
    "# y_test_path = path+\"packet_\"+str(packet)+\"/n_\"+str(subflow)+\"/y_test_n_\"+str(subflow)+\"_overlap.npy\"\n",
    "\n",
    "# X_train_path = path+\"packet_\"+str(packet)+\"/n_\"+str(subflow)+\"/X_train_n_\"+str(subflow)+\".npy\"\n",
    "# y_train_path = path+\"packet_\"+str(packet)+\"/n_\"+str(subflow)+\"/y_train_n_\"+str(subflow)+\".npy\"\n",
    "# X_test_path = path+\"packet_\"+str(packet)+\"/n_\"+str(subflow)+\"/X_test_n_\"+str(subflow)+\".npy\"\n",
    "# y_test_path = path+\"packet_\"+str(packet)+\"/n_\"+str(subflow)+\"/y_test_n_\"+str(subflow)+\".npy\"\n",
    "\n",
    "# For comparsion RF vs RL+RF\n",
    "X_train_path = path+\"packet_\"+str(packet)+\"/n_\"+str(subflow)+\"/X_train_n_\"+str(subflow)+\"_overlap.npy\"\n",
    "y_train_path = path+\"packet_\"+str(packet)+\"/n_\"+str(subflow)+\"/y_train_n_\"+str(subflow)+\"_overlap.npy\"\n",
    "X_test_path = path+\"packet_\"+str(packet)+\"/n_5/X_test_n_5_overlap.npy\"\n",
    "y_test_path = path+\"packet_\"+str(packet)+\"/n_5/y_test_n_5_overlap.npy\"\n",
    "\n",
    "save_path = \"./artifacts/\"\n",
    "model_save_path = save_path+\"models/RF_model_k_\"+str(packet)+\"_n_\"+str(subflow)+\"_f_\"+str(features*subflow)+\".pkl\"\n",
    "scaler_save_path = save_path+\"scalers/scaler_k_\"+str(packet)+\"_n_\"+str(subflow)+\"_f_\"+str(features*subflow)+\".pkl\""
   ]
  },
  {
   "cell_type": "code",
   "execution_count": 180,
   "id": "9afaceec",
   "metadata": {},
   "outputs": [],
   "source": [
    "# This data is not normalized\n",
    "X_train = np.load(X_train_path, allow_pickle=True)\n",
    "y_train = np.load(y_train_path, allow_pickle=True)\n",
    "X_test = np.load(X_test_path, allow_pickle=True)\n",
    "y_test = np.load(y_test_path, allow_pickle=True)"
   ]
  },
  {
   "cell_type": "code",
   "execution_count": 181,
   "id": "b8cf66e6",
   "metadata": {},
   "outputs": [
    {
     "data": {
      "text/plain": [
       "(array(['attack', 'benign'], dtype='<U6'), array([165435,  39515]))"
      ]
     },
     "execution_count": 181,
     "metadata": {},
     "output_type": "execute_result"
    }
   ],
   "source": [
    "np.unique(y_train, return_counts=True)"
   ]
  },
  {
   "cell_type": "code",
   "execution_count": 182,
   "id": "4b9c2f8e",
   "metadata": {},
   "outputs": [
    {
     "data": {
      "text/plain": [
       "(204950, 11)"
      ]
     },
     "execution_count": 182,
     "metadata": {},
     "output_type": "execute_result"
    }
   ],
   "source": [
    "X_train.shape"
   ]
  },
  {
   "cell_type": "code",
   "execution_count": 183,
   "id": "bee45f1f",
   "metadata": {},
   "outputs": [],
   "source": [
    "# Scaling\n",
    "# scaler = MinMaxScaler(feature_range=[-1,1])\n",
    "scaler = StandardScaler()\n",
    "X_train = scaler.fit_transform(X_train)\n",
    "X_test = scaler.transform(X_test)\n",
    "\n",
    "# Save the scaler to a file\n",
    "with open(scaler_save_path, 'wb') as f:\n",
    "    pickle.dump(scaler, f)"
   ]
  },
  {
   "cell_type": "code",
   "execution_count": 184,
   "id": "bfdc35e7",
   "metadata": {},
   "outputs": [],
   "source": [
    "le = LabelEncoder()\n",
    "y_train_encoded = le.fit_transform(y_train)\n",
    "y_test_encoded = le.transform(y_test)"
   ]
  },
  {
   "cell_type": "code",
   "execution_count": 185,
   "id": "40974b5f",
   "metadata": {},
   "outputs": [
    {
     "data": {
      "text/plain": [
       "array([0, 1])"
      ]
     },
     "execution_count": 185,
     "metadata": {},
     "output_type": "execute_result"
    }
   ],
   "source": [
    "le.transform([\"attack\", \"benign\"])"
   ]
  },
  {
   "cell_type": "code",
   "execution_count": 186,
   "id": "00cf98e7",
   "metadata": {},
   "outputs": [],
   "source": [
    "RF_model = RandomForestClassifier()"
   ]
  },
  {
   "cell_type": "code",
   "execution_count": 187,
   "id": "393d8d43",
   "metadata": {},
   "outputs": [
    {
     "name": "stdout",
     "output_type": "stream",
     "text": [
      "Training time:  34.9129478931427\n",
      "inference time per sample:  7.130407779774767e-06\n"
     ]
    }
   ],
   "source": [
    "# Train the model on training data\n",
    "st = time.time()\n",
    "RF_model.fit(X_train, y_train_encoded) #For sklearn no one hot encoding\n",
    "print(\"Training time: \", time.time()-st)\n",
    "\n",
    "#Now predict using the trained RF model. \n",
    "st = time.time()\n",
    "prediction_RF = RF_model.predict(X_test)\n",
    "print(\"inference time per sample: \", (time.time()-st)/len(X_test))\n",
    "#Inverse le transform to get original label back. \n",
    "prediction_RF = le.inverse_transform(prediction_RF)"
   ]
  },
  {
   "cell_type": "code",
   "execution_count": 188,
   "id": "7d3e4f0d",
   "metadata": {},
   "outputs": [],
   "source": [
    "# Save the trained model\n",
    "with open(model_save_path, 'wb') as f:\n",
    "    pickle.dump(RF_model, f)"
   ]
  },
  {
   "cell_type": "code",
   "execution_count": 189,
   "id": "3de7375f",
   "metadata": {},
   "outputs": [
    {
     "name": "stdout",
     "output_type": "stream",
     "text": [
      "Accuracy =  0.9964\n",
      "Precision =  0.9948\n",
      "Recall =  0.9938\n",
      "F1 =  0.9943\n",
      "[[70929   136]\n",
      " [  178 16882]]\n"
     ]
    },
    {
     "data": {
      "text/plain": [
       "<Axes: >"
      ]
     },
     "execution_count": 189,
     "metadata": {},
     "output_type": "execute_result"
    },
    {
     "data": {
      "image/png": "[encoded data removed]",
      "text/plain": [
       "<Figure size 640x480 with 2 Axes>"
      ]
     },
     "metadata": {},
     "output_type": "display_data"
    }
   ],
   "source": [
    "#Print overall accuracy\n",
    "print(\"Accuracy = \", round(metrics.accuracy_score(y_test, prediction_RF), 4))\n",
    "print(\"Precision = \", round(metrics.precision_score(y_test, prediction_RF, average='macro'),4))\n",
    "print(\"Recall = \", round(metrics.recall_score(y_test, prediction_RF, average='macro'),4))\n",
    "print(\"F1 = \", round(metrics.f1_score(y_test, prediction_RF, average='macro'), 4))\n",
    "#Confusion Matrix - verify accuracy of each class\n",
    "cm = confusion_matrix(y_test, prediction_RF) # tn, fp, fn, tp\n",
    "print(cm)\n",
    "sns.heatmap(cm, annot=True, fmt='.10g')"
   ]
  },
  {
   "cell_type": "code",
   "execution_count": 190,
   "id": "7b79d87b",
   "metadata": {},
   "outputs": [
    {
     "name": "stdout",
     "output_type": "stream",
     "text": [
      "              precision    recall  f1-score   support\n",
      "\n",
      "      attack       1.00      1.00      1.00     71065\n",
      "      benign       0.99      0.99      0.99     17060\n",
      "\n",
      "    accuracy                           1.00     88125\n",
      "   macro avg       0.99      0.99      0.99     88125\n",
      "weighted avg       1.00      1.00      1.00     88125\n",
      "\n"
     ]
    }
   ],
   "source": [
    "# classification report \n",
    "target_names = [\"attack\", \"benign\"]\n",
    "print(classification_report(y_test, prediction_RF, target_names=target_names))"
   ]
  },
  {
   "cell_type": "code",
   "execution_count": 191,
   "id": "05aeeed3",
   "metadata": {},
   "outputs": [],
   "source": [
    "# Save the trained model\n",
    "# with open(model_save_path, 'rb') as f:\n",
    "#     RF_model = pickle.load(f)"
   ]
  },
  {
   "cell_type": "markdown",
   "id": "a8aa2e0a",
   "metadata": {},
   "source": [
    "### Evaluation using voting"
   ]
  },
  {
   "cell_type": "code",
   "execution_count": 192,
   "id": "2eda6935",
   "metadata": {},
   "outputs": [
    {
     "name": "stderr",
     "output_type": "stream",
     "text": [
      "88125it [06:56, 211.56it/s]"
     ]
    },
    {
     "name": "stdout",
     "output_type": "stream",
     "text": [
      "random:  0\n"
     ]
    },
    {
     "name": "stderr",
     "output_type": "stream",
     "text": [
      "\n"
     ]
    }
   ],
   "source": [
    "y_true_flow = [y_test[i] for i in range(0,len(y_test), subflow)]\n",
    "y_pred = []\n",
    "vote = []\n",
    "random = 0\n",
    "for i,data in tqdm(enumerate(X_test)):\n",
    "    inp = data.reshape((1,-1))\n",
    "    if (i+1)%subflow == 0:\n",
    "        vote.append(RF_model.predict(inp)[0])\n",
    "        counter = Counter(vote)\n",
    "        most_common_value, highest_occurrence = counter.most_common(1)[0]\n",
    "        if len(counter.most_common())>1 and counter.most_common()[0][1] == counter.most_common()[1][1]:\n",
    "            random+=1\n",
    "#         print(most_common_value)\n",
    "        y_pred.append(le.inverse_transform(np.array([most_common_value]))[0])\n",
    "        vote = []\n",
    "    else:\n",
    "        vote.append(RF_model.predict(inp)[0])\n",
    "print(\"random: \", random)\n",
    "#         print(vote)"
   ]
  },
  {
   "cell_type": "code",
   "execution_count": 193,
   "id": "eb71e5dc",
   "metadata": {},
   "outputs": [
    {
     "name": "stdout",
     "output_type": "stream",
     "text": [
      "17625\n",
      "17625\n"
     ]
    }
   ],
   "source": [
    "print(len(y_true_flow))\n",
    "print(len(y_pred))"
   ]
  },
  {
   "cell_type": "code",
   "execution_count": 198,
   "id": "9c32b2d4-5e4d-4a01-a88d-7a80ef34e9a1",
   "metadata": {},
   "outputs": [],
   "source": [
    "# y_true_flow.pop(-1)\n",
    "# y_true_flow.append('benign')"
   ]
  },
  {
   "cell_type": "code",
   "execution_count": 199,
   "id": "74540693",
   "metadata": {},
   "outputs": [
    {
     "data": {
      "text/plain": [
       "'benign'"
      ]
     },
     "execution_count": 199,
     "metadata": {},
     "output_type": "execute_result"
    }
   ],
   "source": [
    "y_pred[0]"
   ]
  },
  {
   "cell_type": "code",
   "execution_count": 200,
   "id": "f68a82a2",
   "metadata": {},
   "outputs": [
    {
     "name": "stdout",
     "output_type": "stream",
     "text": [
      "Accuracy =  0.9981\n",
      "Precision =  0.9966\n",
      "Recall =  0.9974\n",
      "F1 =  0.997\n",
      "[[14193    20]\n",
      " [   13  3399]]\n"
     ]
    },
    {
     "data": {
      "text/plain": [
       "<Axes: >"
      ]
     },
     "execution_count": 200,
     "metadata": {},
     "output_type": "execute_result"
    },
    {
     "data": {
      "image/png": "[encoded data removed]",
      "text/plain": [
       "<Figure size 640x480 with 2 Axes>"
      ]
     },
     "metadata": {},
     "output_type": "display_data"
    }
   ],
   "source": [
    "#Print overall accuracy\n",
    "print(\"Accuracy = \", round(metrics.accuracy_score(y_true_flow, y_pred), 4))\n",
    "print(\"Precision = \", round(metrics.precision_score(y_true_flow, y_pred, average='macro'),4))\n",
    "print(\"Recall = \", round(metrics.recall_score(y_true_flow, y_pred, average='macro'),4))\n",
    "print(\"F1 = \", round(metrics.f1_score(y_true_flow, y_pred, average='macro'), 4))\n",
    "#Confusion Matrix - verify accuracy of each class\n",
    "cm = confusion_matrix(y_true_flow, y_pred) # tn, fp, fn, tp\n",
    "print(cm)\n",
    "sns.heatmap(cm, annot=True, fmt='.10g')"
   ]
  },
  {
   "cell_type": "code",
   "execution_count": 201,
   "id": "41d4a4e2",
   "metadata": {},
   "outputs": [
    {
     "name": "stdout",
     "output_type": "stream",
     "text": [
      "              precision    recall  f1-score   support\n",
      "\n",
      "      attack       1.00      1.00      1.00     14213\n",
      "      benign       0.99      1.00      1.00      3412\n",
      "\n",
      "    accuracy                           1.00     17625\n",
      "   macro avg       1.00      1.00      1.00     17625\n",
      "weighted avg       1.00      1.00      1.00     17625\n",
      "\n"
     ]
    }
   ],
   "source": [
    "# classification report \n",
    "target_names = [\"attack\", \"benign\"]\n",
    "print(classification_report(y_true_flow, y_pred, target_names=target_names))"
   ]
  },
  {
   "cell_type": "markdown",
   "id": "5bbb04d1",
   "metadata": {},
   "source": [
    "### Confidence score calculation"
   ]
  },
  {
   "cell_type": "code",
   "execution_count": 76,
   "id": "df2582f9",
   "metadata": {},
   "outputs": [],
   "source": [
    "predictions = RF_model.predict(X_test)"
   ]
  },
  {
   "cell_type": "code",
   "execution_count": 124,
   "id": "ce910a28",
   "metadata": {},
   "outputs": [
    {
     "data": {
      "text/plain": [
       "(11010,)"
      ]
     },
     "execution_count": 124,
     "metadata": {},
     "output_type": "execute_result"
    }
   ],
   "source": [
    "predictions.shape"
   ]
  },
  {
   "cell_type": "code",
   "execution_count": 125,
   "id": "65d0eba7",
   "metadata": {},
   "outputs": [
    {
     "data": {
      "text/plain": [
       "(11,)"
      ]
     },
     "execution_count": 125,
     "metadata": {},
     "output_type": "execute_result"
    }
   ],
   "source": [
    "X_test[0].shape"
   ]
  },
  {
   "cell_type": "code",
   "execution_count": 17,
   "id": "a424e469",
   "metadata": {},
   "outputs": [
    {
     "name": "stderr",
     "output_type": "stream",
     "text": [
      "11010it [01:02, 176.30it/s]\n"
     ]
    }
   ],
   "source": [
    "# Getting the proportion of trees that agree on each prediction\n",
    "confidence_scores = []\n",
    "for i,data in tqdm(enumerate(X_test)):\n",
    "    inp = data.reshape((1,-1))\n",
    "    tree_counter = 0\n",
    "    for tree in RF_model.estimators_:\n",
    "        tree_predictions = tree.predict(inp)\n",
    "        if tree_predictions == predictions[i]:\n",
    "            tree_counter += 1\n",
    "    confidence_scores.append(tree_counter)"
   ]
  },
  {
   "cell_type": "code",
   "execution_count": 18,
   "id": "93287c0d",
   "metadata": {},
   "outputs": [
    {
     "data": {
      "text/plain": [
       "11010"
      ]
     },
     "execution_count": 18,
     "metadata": {},
     "output_type": "execute_result"
    }
   ],
   "source": [
    "len(confidence_scores)"
   ]
  },
  {
   "cell_type": "code",
   "execution_count": 19,
   "id": "fbcea3b1",
   "metadata": {},
   "outputs": [
    {
     "data": {
      "text/plain": [
       "63"
      ]
     },
     "execution_count": 19,
     "metadata": {},
     "output_type": "execute_result"
    }
   ],
   "source": [
    "confidence_scores[0]"
   ]
  },
  {
   "cell_type": "markdown",
   "id": "31aed7a9",
   "metadata": {},
   "source": [
    "### Decision path of RF"
   ]
  },
  {
   "cell_type": "code",
   "execution_count": 60,
   "id": "87e33b40",
   "metadata": {},
   "outputs": [
    {
     "name": "stderr",
     "output_type": "stream",
     "text": [
      "1it [00:00, 24.20it/s]\n"
     ]
    }
   ],
   "source": [
    "# Get the decision path for each tree in the forest\n",
    "decision_paths = []\n",
    "for i,data in tqdm(enumerate(X_test[0:1])):\n",
    "    inp = data.reshape((1,-1))\n",
    "    for tree in RF_model.estimators_:\n",
    "        sparse_matrix = tree.decision_path(inp)\n",
    "        decision_paths.append(sparse_matrix.toarray())"
   ]
  },
  {
   "cell_type": "code",
   "execution_count": 63,
   "id": "e820a19e",
   "metadata": {},
   "outputs": [
    {
     "data": {
      "text/plain": [
       "100"
      ]
     },
     "execution_count": 63,
     "metadata": {},
     "output_type": "execute_result"
    }
   ],
   "source": [
    "len(decision_paths)"
   ]
  },
  {
   "cell_type": "code",
   "execution_count": 65,
   "id": "bad2fe51",
   "metadata": {},
   "outputs": [
    {
     "data": {
      "text/plain": [
       "(1, 913)"
      ]
     },
     "execution_count": 65,
     "metadata": {},
     "output_type": "execute_result"
    }
   ],
   "source": [
    "decision_paths[1].shape"
   ]
  },
  {
   "cell_type": "code",
   "execution_count": 66,
   "id": "8dba1866",
   "metadata": {},
   "outputs": [
    {
     "data": {
      "text/plain": [
       "array([[1, 0, 0, 0, 0, 0, 0, 0, 0, 0, 0, 0, 0, 0, 0, 0, 0, 0, 0, 0, 0, 0,\n",
       "        0, 0, 0, 0, 1, 0, 0, 0, 0, 0, 0, 0, 0, 0, 0, 0, 0, 0, 0, 0, 0, 0,\n",
       "        0, 0, 0, 0, 0, 0, 0, 0, 0, 0, 0, 0, 0, 0, 0, 0, 0, 0, 0, 0, 0, 0,\n",
       "        0, 0, 0, 0, 0, 0, 0, 0, 0, 0, 0, 0, 0, 0, 0, 0, 0, 0, 0, 0, 0, 0,\n",
       "        0, 0, 0, 0, 0, 0, 1, 1, 1, 0, 1, 0, 1, 1, 0, 0, 0, 0, 0, 0, 0, 0,\n",
       "        0, 0, 0, 0, 0, 0, 0, 0, 0, 0, 0, 0, 0, 0, 0, 0, 0, 0, 0, 0, 0, 0,\n",
       "        0, 0, 0, 0, 0, 0, 0, 0, 0, 0, 0, 0, 0, 0, 0, 0, 0, 0, 0, 0, 0, 0,\n",
       "        0, 0, 0, 0, 0, 0, 0, 0, 0, 0, 0, 0, 0, 0, 0, 0, 0, 0, 0, 0, 0, 0,\n",
       "        0, 0, 0, 0, 0, 0, 0, 0, 0, 0, 0, 0, 0, 0, 0, 0, 0, 0, 0, 0, 0, 0,\n",
       "        0, 0, 0, 0, 0, 0, 0, 0, 0, 0, 0, 0, 0, 0, 0, 0, 0, 0, 0, 0, 0, 0,\n",
       "        0, 0, 0, 0, 0, 0, 0, 0, 0, 0, 0, 0, 0, 0, 0, 0, 0, 0, 0, 0, 0, 0,\n",
       "        0, 0, 0, 0, 0, 0, 0, 0, 0, 0, 0, 0, 0, 0, 0, 0, 0, 0, 0, 0, 0, 0,\n",
       "        0, 0, 0, 0, 0, 0, 0, 0, 0, 0, 0, 0, 0, 0, 0, 0, 0, 0, 0, 0, 0, 0,\n",
       "        0, 0, 0, 0, 0, 0, 0, 0, 0, 0, 0, 0, 0, 0, 0, 0, 0, 0, 0, 0, 0, 0,\n",
       "        0, 0, 0, 0, 0, 0, 0, 0, 0, 0, 0, 0, 0, 0, 0, 0, 0, 0, 0, 0, 0, 0,\n",
       "        0, 0, 0, 0, 0, 0, 0, 0, 0, 0, 0, 0, 0, 0, 0, 0, 0, 0, 0, 0, 0, 0,\n",
       "        0, 0, 0, 0, 0, 0, 0, 0, 0, 0, 0, 0, 0, 0, 0, 0, 0, 0, 0, 0, 0, 0,\n",
       "        0, 0, 0, 0, 0, 0, 0, 0, 0, 0, 0, 0, 0, 0, 0, 0, 0, 0, 0, 0, 0, 0,\n",
       "        0, 0, 0, 0, 0, 0, 0, 0, 0, 0, 0, 0, 0, 0, 0, 0, 0, 0, 0, 0, 0, 0,\n",
       "        0, 0, 0, 0, 0, 0, 0, 0, 0, 0, 0, 0, 0, 0, 0, 0, 0, 0, 0, 0, 0, 0,\n",
       "        0, 0, 0, 0, 0, 0, 0, 0, 0, 0, 0, 0, 0, 0, 0, 0, 0, 0, 0, 0, 0, 0,\n",
       "        0, 0, 0, 0, 0, 0, 0, 0, 0, 0, 0, 0, 0, 0, 0, 0, 0, 0, 0, 0, 0, 0,\n",
       "        0, 0, 0, 0, 0, 0, 0, 0, 0, 0, 0, 0, 0, 0, 0, 0, 0, 0, 0, 0, 0, 0,\n",
       "        0, 0, 0, 0, 0, 0, 0, 0, 0, 0, 0, 0, 0, 0, 0, 0, 0, 0, 0, 0, 0, 0,\n",
       "        0, 0, 0, 0, 0, 0, 0, 0, 0, 0, 0, 0, 0, 0, 0, 0, 0, 0, 0, 0, 0, 0,\n",
       "        0, 0, 0, 0, 0, 0, 0, 0, 0, 0, 0, 0, 0, 0, 0, 0, 0, 0, 0, 0, 0, 0,\n",
       "        0, 0, 0, 0, 0, 0, 0, 0, 0, 0, 0, 0, 0, 0, 0, 0, 0, 0, 0, 0, 0, 0,\n",
       "        0, 0, 0, 0, 0, 0, 0, 0, 0, 0, 0, 0, 0, 0, 0, 0, 0, 0, 0, 0, 0, 0,\n",
       "        0, 0, 0, 0, 0, 0, 0, 0, 0, 0, 0, 0, 0, 0, 0, 0, 0, 0, 0, 0, 0, 0,\n",
       "        0, 0, 0, 0, 0, 0, 0, 0, 0, 0, 0, 0, 0, 0, 0, 0, 0, 0, 0, 0, 0, 0,\n",
       "        0, 0, 0, 0, 0, 0, 0, 0, 0, 0, 0, 0, 0, 0, 0, 0, 0, 0, 0, 0, 0, 0,\n",
       "        0, 0, 0, 0, 0, 0, 0, 0, 0, 0, 0, 0, 0, 0, 0, 0, 0, 0, 0, 0, 0, 0,\n",
       "        0, 0, 0, 0, 0, 0, 0, 0, 0, 0, 0, 0, 0, 0, 0, 0, 0, 0, 0, 0, 0, 0,\n",
       "        0, 0, 0, 0, 0, 0, 0, 0, 0, 0, 0, 0, 0, 0, 0, 0, 0, 0, 0, 0, 0, 0,\n",
       "        0, 0, 0, 0, 0, 0, 0, 0, 0, 0, 0, 0, 0, 0, 0, 0, 0, 0, 0, 0, 0, 0,\n",
       "        0, 0, 0, 0, 0, 0, 0, 0, 0, 0, 0, 0, 0, 0, 0, 0, 0, 0, 0, 0, 0, 0,\n",
       "        0, 0, 0, 0, 0, 0, 0, 0, 0, 0, 0, 0, 0, 0, 0, 0, 0, 0, 0, 0, 0, 0,\n",
       "        0, 0, 0, 0, 0, 0, 0, 0, 0, 0, 0, 0, 0, 0, 0, 0, 0, 0, 0, 0, 0, 0,\n",
       "        0, 0, 0, 0, 0, 0, 0, 0, 0, 0, 0, 0, 0, 0, 0, 0, 0, 0, 0, 0, 0, 0,\n",
       "        0, 0, 0, 0, 0, 0, 0, 0, 0, 0, 0, 0, 0, 0, 0, 0, 0, 0, 0, 0, 0, 0,\n",
       "        0, 0, 0, 0, 0, 0, 0, 0, 0, 0, 0, 0, 0, 0, 0, 0, 0, 0, 0, 0, 0, 0,\n",
       "        0, 0, 0, 0, 0, 0, 0, 0, 0, 0, 0]])"
      ]
     },
     "execution_count": 66,
     "metadata": {},
     "output_type": "execute_result"
    }
   ],
   "source": [
    "decision_paths[1]  # 1 means the sample passes the node, 0 means does not pass"
   ]
  },
  {
   "cell_type": "code",
   "execution_count": null,
   "id": "039fa1fe",
   "metadata": {},
   "outputs": [],
   "source": []
  }
 ],
 "metadata": {
  "kernelspec": {
   "display_name": "Python 3 (ipykernel)",
   "language": "python",
   "name": "python3"
  },
  "language_info": {
   "codemirror_mode": {
    "name": "ipython",
    "version": 3
   },
   "file_extension": ".py",
   "mimetype": "text/x-python",
   "name": "python",
   "nbconvert_exporter": "python",
   "pygments_lexer": "ipython3",
   "version": "3.8.10"
  }
 },
 "nbformat": 4,
 "nbformat_minor": 5
}
