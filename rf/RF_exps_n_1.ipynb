{
 "cells": [
  {
   "cell_type": "code",
   "execution_count": 340,
   "id": "127adb51",
   "metadata": {},
   "outputs": [],
   "source": [
    "import time\n",
    "from tqdm import tqdm\n",
    "\n",
    "import pandas as pd\n",
    "from sklearn import metrics\n",
    "from sklearn.preprocessing import StandardScaler, LabelEncoder\n",
    "from sklearn.model_selection import train_test_split\n",
    "from sklearn.metrics import confusion_matrix, mean_squared_error\n",
    "from sklearn.ensemble import RandomForestClassifier\n",
    "from sklearn.model_selection import StratifiedShuffleSplit\n",
    "\n",
    "import numpy as np \n",
    "import matplotlib.pyplot as plt\n",
    "import seaborn as sns\n",
    "sns.set(font_scale=2)"
   ]
  },
  {
   "cell_type": "code",
   "execution_count": 341,
   "id": "6bc2fbed",
   "metadata": {},
   "outputs": [],
   "source": [
    "data_path = \"/home/sharedrive/ids_dataset/early_detection/data_vary_N/rf_data/packet_6/n_5/\""
   ]
  },
  {
   "cell_type": "markdown",
   "id": "fadf0813",
   "metadata": {},
   "source": [
    "### RF training with n=1"
   ]
  },
  {
   "cell_type": "code",
   "execution_count": 342,
   "id": "a93828e5",
   "metadata": {},
   "outputs": [],
   "source": [
    "# data_path = \"/home/sharedrive/ids_dataset/early_detection/data_vary_N/n_1/\""
   ]
  },
  {
   "cell_type": "code",
   "execution_count": 343,
   "id": "1cca65f1",
   "metadata": {},
   "outputs": [],
   "source": [
    "# for comparing rf vs lstm\n",
    "X_train, y_train = np.load(data_path+\"X_train_n_5.npy\", allow_pickle=True), np.load(data_path+\"y_train_n_5.npy\", allow_pickle=True)\n",
    "X_test, y_test = np.load(data_path+\"X_test_n_5.npy\", allow_pickle=True), np.load(data_path+\"y_test_n_5.npy\", allow_pickle=True)"
   ]
  },
  {
   "cell_type": "code",
   "execution_count": 344,
   "id": "78525169",
   "metadata": {},
   "outputs": [],
   "source": [
    "# for comparing different rf model on the same test data\n",
    "# data_path = \"/home/sharedrive/ids_dataset/early_detection/data_vary_N/n_5/\"\n",
    "# X_test, y_test = np.load(data_path+\"X_test_n_5.npy\", allow_pickle=True), np.load(data_path+\"y_test_n_5.npy\", allow_pickle=True)"
   ]
  },
  {
   "cell_type": "code",
   "execution_count": null,
   "id": "cc9323b8",
   "metadata": {},
   "outputs": [],
   "source": []
  },
  {
   "cell_type": "code",
   "execution_count": 345,
   "id": "21625c89",
   "metadata": {},
   "outputs": [],
   "source": [
    "y_train_series = pd.Series(y_train, name=\"Label\") \n",
    "y_test_series = pd.Series(y_test, name=\"Label\") "
   ]
  },
  {
   "cell_type": "code",
   "execution_count": 346,
   "id": "211da5e7",
   "metadata": {},
   "outputs": [],
   "source": [
    "scaler = StandardScaler()\n",
    "X_train = scaler.fit_transform(X_train)\n",
    "X_test = scaler.transform(X_test)"
   ]
  },
  {
   "cell_type": "code",
   "execution_count": 347,
   "id": "2a7e672e",
   "metadata": {},
   "outputs": [],
   "source": [
    "# # balancing data\n",
    "# train_attack = 1985\n",
    "# train_benign = 23925\n",
    "# # test_attack = 800\n",
    "# # test_benign = 10210\n",
    "\n",
    "# train_attack_idx = y_train_series=='attack'\n",
    "# train_benign_idx = y_train_series=='benign'\n",
    "# attack_x_train = X_train[train_attack_idx][:train_attack]\n",
    "# benign_x_train = X_train[train_benign_idx][:train_benign]\n",
    "# attack_y_train = y_train[train_attack_idx][:train_attack]\n",
    "# benign_y_train = y_train[train_benign_idx][:train_benign]\n",
    "# X_train = np.concatenate((attack_x_train, benign_x_train), axis=0)\n",
    "# y_train = np.concatenate((attack_y_train, benign_y_train), axis=0)\n",
    "\n",
    "# # test_attack_idx = y_test_series=='attack'\n",
    "# # test_benign_idx = y_test_series=='benign'\n",
    "# # attack_x_test = X_test[test_attack_idx][:test_attack]\n",
    "# # benign_x_test = X_test[test_benign_idx][:test_benign]\n",
    "# # attack_y_test = y_test[test_attack_idx][:test_attack]\n",
    "# # benign_y_test = y_test[test_benign_idx][:test_benign]\n",
    "# # X_test = np.concatenate((attack_x_test, benign_x_test), axis=0)\n",
    "# # y_test = np.concatenate((attack_y_test, benign_y_test), axis=0)\n",
    "\n",
    "# y_train_series = pd.Series(y_train, name=\"Label\") "
   ]
  },
  {
   "cell_type": "code",
   "execution_count": 348,
   "id": "0ca11dca",
   "metadata": {},
   "outputs": [
    {
     "name": "stdout",
     "output_type": "stream",
     "text": [
      "Test Size\n",
      " benign    9210\n",
      "attack     690\n",
      "Name: Label, dtype: int64\n",
      "Train Size\n",
      " benign    21625\n",
      "attack     1395\n",
      "Name: Label, dtype: int64\n"
     ]
    }
   ],
   "source": [
    "print(\"Test Size\\n\", y_test_series.value_counts())\n",
    "print(\"Train Size\\n\", y_train_series.value_counts())"
   ]
  },
  {
   "cell_type": "code",
   "execution_count": 349,
   "id": "9ba33f51",
   "metadata": {},
   "outputs": [
    {
     "data": {
      "text/plain": [
       "<AxesSubplot: >"
      ]
     },
     "execution_count": 349,
     "metadata": {},
     "output_type": "execute_result"
    },
    {
     "data": {
      "image/png": "[encoded data removed]",
      "text/plain": [
       "<Figure size 640x480 with 1 Axes>"
      ]
     },
     "metadata": {},
     "output_type": "display_data"
    }
   ],
   "source": [
    "y_train_series.value_counts().plot(kind='bar')"
   ]
  },
  {
   "cell_type": "code",
   "execution_count": 350,
   "id": "7725d822",
   "metadata": {},
   "outputs": [],
   "source": [
    "# Label preparation for RandomForest\n",
    "le = LabelEncoder()\n",
    "y_train_encoded = le.fit_transform(y_train)\n",
    "y_test_encoded = le.transform(y_test)"
   ]
  },
  {
   "cell_type": "code",
   "execution_count": 351,
   "id": "dd1c7c39",
   "metadata": {},
   "outputs": [
    {
     "data": {
      "text/plain": [
       "array([0, 1])"
      ]
     },
     "execution_count": 351,
     "metadata": {},
     "output_type": "execute_result"
    }
   ],
   "source": [
    "le.transform([\"attack\", \"benign\"])"
   ]
  },
  {
   "cell_type": "code",
   "execution_count": 352,
   "id": "9a20f7cd",
   "metadata": {},
   "outputs": [],
   "source": [
    "RF_model = RandomForestClassifier()"
   ]
  },
  {
   "cell_type": "code",
   "execution_count": 353,
   "id": "530982d0",
   "metadata": {},
   "outputs": [
    {
     "name": "stdout",
     "output_type": "stream",
     "text": [
      "Training time:  1.4566943645477295\n",
      "inference time per sample:  4.315930183487709e-06\n"
     ]
    }
   ],
   "source": [
    "# Train the model on training data\n",
    "st = time.time()\n",
    "RF_model.fit(X_train, y_train_encoded) #For sklearn no one hot encoding\n",
    "print(\"Training time: \", time.time()-st)\n",
    "\n",
    "#Now predict using the trained RF model. \n",
    "st = time.time()\n",
    "prediction_RF = RF_model.predict(X_test)\n",
    "print(\"inference time per sample: \", (time.time()-st)/len(X_test))\n",
    "#Inverse le transform to get original label back. \n",
    "prediction_RF = le.inverse_transform(prediction_RF)"
   ]
  },
  {
   "cell_type": "code",
   "execution_count": 354,
   "id": "2c16f6b9",
   "metadata": {},
   "outputs": [
    {
     "name": "stdout",
     "output_type": "stream",
     "text": [
      "Accuracy =  0.9872\n",
      "Precision =  0.9667\n",
      "Recall =  0.9321\n",
      "F1 =  0.9486\n",
      "[[ 599   91]\n",
      " [  36 9174]]\n"
     ]
    },
    {
     "data": {
      "text/plain": [
       "<AxesSubplot: >"
      ]
     },
     "execution_count": 354,
     "metadata": {},
     "output_type": "execute_result"
    },
    {
     "data": {
      "image/png": "[encoded data removed]",
      "text/plain": [
       "<Figure size 640x480 with 2 Axes>"
      ]
     },
     "metadata": {},
     "output_type": "display_data"
    }
   ],
   "source": [
    "#Print overall accuracy\n",
    "print(\"Accuracy = \", round(metrics.accuracy_score(y_test, prediction_RF), 4))\n",
    "print(\"Precision = \", round(metrics.precision_score(y_test, prediction_RF, average='macro'),4))\n",
    "print(\"Recall = \", round(metrics.recall_score(y_test, prediction_RF, average='macro'),4))\n",
    "print(\"F1 = \", round(metrics.f1_score(y_test, prediction_RF, average='macro'), 4))\n",
    "#Confusion Matrix - verify accuracy of each class\n",
    "cm = confusion_matrix(y_test, prediction_RF) # tn, fp, fn, tp\n",
    "print(cm)\n",
    "sns.heatmap(cm, annot=True, fmt='.10g')"
   ]
  },
  {
   "cell_type": "code",
   "execution_count": null,
   "id": "0c017fa0",
   "metadata": {},
   "outputs": [],
   "source": []
  }
 ],
 "metadata": {
  "kernelspec": {
   "display_name": "Python 3 (ipykernel)",
   "language": "python",
   "name": "python3"
  },
  "language_info": {
   "codemirror_mode": {
    "name": "ipython",
    "version": 3
   },
   "file_extension": ".py",
   "mimetype": "text/x-python",
   "name": "python",
   "nbconvert_exporter": "python",
   "pygments_lexer": "ipython3",
   "version": "3.8.10"
  }
 },
 "nbformat": 4,
 "nbformat_minor": 5
}
