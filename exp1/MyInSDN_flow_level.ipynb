{
 "cells": [
  {
   "cell_type": "code",
   "execution_count": 2,
   "id": "63eb4c06",
   "metadata": {},
   "outputs": [],
   "source": [
    "import pandas as pd\n",
    "import numpy as np\n",
    "\n",
    "from sklearn.preprocessing import StandardScaler, LabelEncoder\n",
    "from sklearn.model_selection import train_test_split\n",
    "from sklearn.metrics import confusion_matrix\n",
    "from sklearn.ensemble import RandomForestClassifier\n",
    "from sklearn import metrics\n",
    "\n",
    "from tqdm import tqdm\n",
    "\n",
    "import seaborn as sns\n",
    "sns.set(font_scale=2)\n",
    "import matplotlib.pyplot as plt\n",
    "\n",
    "import xgboost as xgb"
   ]
  },
  {
   "cell_type": "code",
   "execution_count": 2,
   "id": "085ae482",
   "metadata": {},
   "outputs": [],
   "source": [
    "csv_file = \"dataset_1.csv\"\n",
    "\n",
    "train_benign = pd.read_csv(\"/home/sharedrive/ids_dataset/MyInSDNDataset/flows/train/dataset_1_.csv\")\n",
    "train_attack = pd.read_csv(\"/home/sharedrive/ids_dataset/MyInSDNDataset/flows/train/dataset_1.csv\")\n",
    "\n",
    "train_df = pd.concat([train_benign, train_attack])\n",
    "\n",
    "# train_df = pd.read_csv(\"/home/sharedrive/ids_dataset/MyInSDNDataset/flows/train/\"+csv_file)\n",
    "test_df = pd.read_csv(\"/home/sharedrive/ids_dataset/MyInSDNDataset/flows/test/\"+csv_file)\n",
    "val_df = pd.read_csv(\"/home/sharedrive/ids_dataset/MyInSDNDataset/flows/val/\"+csv_file)"
   ]
  },
  {
   "cell_type": "code",
   "execution_count": 3,
   "id": "edf63334",
   "metadata": {},
   "outputs": [
    {
     "data": {
      "text/plain": [
       "454641"
      ]
     },
     "execution_count": 3,
     "metadata": {},
     "output_type": "execute_result"
    }
   ],
   "source": [
    "len(test_df)"
   ]
  },
  {
   "cell_type": "code",
   "execution_count": 4,
   "id": "d24afdf4",
   "metadata": {},
   "outputs": [
    {
     "data": {
      "text/plain": [
       "1382056"
      ]
     },
     "execution_count": 4,
     "metadata": {},
     "output_type": "execute_result"
    }
   ],
   "source": [
    "len(train_df)"
   ]
  },
  {
   "cell_type": "code",
   "execution_count": 5,
   "id": "c0bf74a0",
   "metadata": {},
   "outputs": [
    {
     "name": "stdout",
     "output_type": "stream",
     "text": [
      "<class 'pandas.core.frame.DataFrame'>\n",
      "Int64Index: 1382056 entries, 0 to 1259283\n",
      "Data columns (total 6 columns):\n",
      " #   Column         Non-Null Count    Dtype  \n",
      "---  ------         --------------    -----  \n",
      " 0   flow_id        1382056 non-null  object \n",
      " 1   protocol       1382056 non-null  int64  \n",
      " 2   pckt_received  1382056 non-null  int64  \n",
      " 3   byte_received  1382056 non-null  int64  \n",
      " 4   avg_pckt_size  1382056 non-null  float64\n",
      " 5   label          1382056 non-null  object \n",
      "dtypes: float64(1), int64(3), object(2)\n",
      "memory usage: 73.8+ MB\n"
     ]
    }
   ],
   "source": [
    "train_df.info()"
   ]
  },
  {
   "cell_type": "code",
   "execution_count": 6,
   "id": "34aae9ab",
   "metadata": {},
   "outputs": [
    {
     "data": {
      "text/html": [
       "<div>\n",
       "<style scoped>\n",
       "    .dataframe tbody tr th:only-of-type {\n",
       "        vertical-align: middle;\n",
       "    }\n",
       "\n",
       "    .dataframe tbody tr th {\n",
       "        vertical-align: top;\n",
       "    }\n",
       "\n",
       "    .dataframe thead th {\n",
       "        text-align: right;\n",
       "    }\n",
       "</style>\n",
       "<table border=\"1\" class=\"dataframe\">\n",
       "  <thead>\n",
       "    <tr style=\"text-align: right;\">\n",
       "      <th></th>\n",
       "      <th>protocol</th>\n",
       "      <th>pckt_received</th>\n",
       "      <th>byte_received</th>\n",
       "      <th>avg_pckt_size</th>\n",
       "    </tr>\n",
       "  </thead>\n",
       "  <tbody>\n",
       "    <tr>\n",
       "      <th>count</th>\n",
       "      <td>1.382056e+06</td>\n",
       "      <td>1.382056e+06</td>\n",
       "      <td>1.382056e+06</td>\n",
       "      <td>1.382056e+06</td>\n",
       "    </tr>\n",
       "    <tr>\n",
       "      <th>mean</th>\n",
       "      <td>1.315147e+01</td>\n",
       "      <td>7.022286e+00</td>\n",
       "      <td>2.599895e+03</td>\n",
       "      <td>9.548758e+01</td>\n",
       "    </tr>\n",
       "    <tr>\n",
       "      <th>std</th>\n",
       "      <td>5.260337e+00</td>\n",
       "      <td>8.209086e+02</td>\n",
       "      <td>2.719655e+05</td>\n",
       "      <td>2.820855e+02</td>\n",
       "    </tr>\n",
       "    <tr>\n",
       "      <th>min</th>\n",
       "      <td>1.000000e+00</td>\n",
       "      <td>1.000000e+00</td>\n",
       "      <td>4.200000e+01</td>\n",
       "      <td>4.200000e+01</td>\n",
       "    </tr>\n",
       "    <tr>\n",
       "      <th>25%</th>\n",
       "      <td>6.000000e+00</td>\n",
       "      <td>1.000000e+00</td>\n",
       "      <td>8.400000e+01</td>\n",
       "      <td>4.200000e+01</td>\n",
       "    </tr>\n",
       "    <tr>\n",
       "      <th>50%</th>\n",
       "      <td>1.700000e+01</td>\n",
       "      <td>2.000000e+00</td>\n",
       "      <td>8.400000e+01</td>\n",
       "      <td>4.200000e+01</td>\n",
       "    </tr>\n",
       "    <tr>\n",
       "      <th>75%</th>\n",
       "      <td>1.700000e+01</td>\n",
       "      <td>2.000000e+00</td>\n",
       "      <td>1.120000e+02</td>\n",
       "      <td>7.571429e+01</td>\n",
       "    </tr>\n",
       "    <tr>\n",
       "      <th>max</th>\n",
       "      <td>1.700000e+01</td>\n",
       "      <td>5.550320e+05</td>\n",
       "      <td>2.384360e+08</td>\n",
       "      <td>3.762400e+04</td>\n",
       "    </tr>\n",
       "  </tbody>\n",
       "</table>\n",
       "</div>"
      ],
      "text/plain": [
       "           protocol  pckt_received  byte_received  avg_pckt_size\n",
       "count  1.382056e+06   1.382056e+06   1.382056e+06   1.382056e+06\n",
       "mean   1.315147e+01   7.022286e+00   2.599895e+03   9.548758e+01\n",
       "std    5.260337e+00   8.209086e+02   2.719655e+05   2.820855e+02\n",
       "min    1.000000e+00   1.000000e+00   4.200000e+01   4.200000e+01\n",
       "25%    6.000000e+00   1.000000e+00   8.400000e+01   4.200000e+01\n",
       "50%    1.700000e+01   2.000000e+00   8.400000e+01   4.200000e+01\n",
       "75%    1.700000e+01   2.000000e+00   1.120000e+02   7.571429e+01\n",
       "max    1.700000e+01   5.550320e+05   2.384360e+08   3.762400e+04"
      ]
     },
     "execution_count": 6,
     "metadata": {},
     "output_type": "execute_result"
    }
   ],
   "source": [
    "train_df.describe()"
   ]
  },
  {
   "cell_type": "code",
   "execution_count": 7,
   "id": "9abf306e",
   "metadata": {},
   "outputs": [
    {
     "data": {
      "text/plain": [
       "array([ 6, 17,  1])"
      ]
     },
     "execution_count": 7,
     "metadata": {},
     "output_type": "execute_result"
    }
   ],
   "source": [
    "train_df[\"protocol\"].unique()"
   ]
  },
  {
   "cell_type": "code",
   "execution_count": 8,
   "id": "50c584e4",
   "metadata": {},
   "outputs": [
    {
     "data": {
      "text/plain": [
       "<BarContainer object of 2 artists>"
      ]
     },
     "execution_count": 8,
     "metadata": {},
     "output_type": "execute_result"
    },
    {
     "data": {
      "image/png": "[encoded data removed]",
      "text/plain": [
       "<Figure size 432x288 with 1 Axes>"
      ]
     },
     "metadata": {},
     "output_type": "display_data"
    }
   ],
   "source": [
    "plt.bar([\"Attack\", \"Benign\"], [len(train_df[train_df[\"label\"]==\"attack\"]), \\\n",
    "                               len(train_df[train_df[\"label\"]==\"benign\"])])"
   ]
  },
  {
   "cell_type": "code",
   "execution_count": 9,
   "id": "ec6faae9",
   "metadata": {},
   "outputs": [],
   "source": [
    "fraction = len(train_df[train_df[\"label\"]==\"benign\"])/len(train_df[train_df[\"label\"]==\"attack\"])\n",
    "attack_df = train_df[train_df[\"label\"]==\"attack\"].sample(frac=fraction, random_state=1001)\n",
    "benign_df = train_df[train_df[\"label\"]==\"benign\"]\n",
    "balanced_train_df = pd.concat([attack_df, benign_df])\n",
    "balanced_train_df = balanced_train_df.sample(frac=1).reset_index(drop=True) # drop = True prevents .reset_index \n",
    "                                                                # from creating a column containing the\n",
    "                                                                # old index entries."
   ]
  },
  {
   "cell_type": "code",
   "execution_count": 10,
   "id": "7be3b8f2",
   "metadata": {},
   "outputs": [
    {
     "data": {
      "text/plain": [
       "<BarContainer object of 2 artists>"
      ]
     },
     "execution_count": 10,
     "metadata": {},
     "output_type": "execute_result"
    },
    {
     "data": {
      "image/png": "[encoded data removed]",
      "text/plain": [
       "<Figure size 432x288 with 1 Axes>"
      ]
     },
     "metadata": {},
     "output_type": "display_data"
    }
   ],
   "source": [
    "plt.bar([\"Attack\", \"Benign\"], [len(balanced_train_df[balanced_train_df[\"label\"]==\"attack\"]),\\\n",
    "                               len(balanced_train_df[balanced_train_df[\"label\"]==\"benign\"])])"
   ]
  },
  {
   "cell_type": "code",
   "execution_count": 11,
   "id": "f185e2bc",
   "metadata": {},
   "outputs": [
    {
     "data": {
      "text/plain": [
       "245544"
      ]
     },
     "execution_count": 11,
     "metadata": {},
     "output_type": "execute_result"
    }
   ],
   "source": [
    "len(balanced_train_df)"
   ]
  },
  {
   "cell_type": "code",
   "execution_count": 12,
   "id": "464501fd",
   "metadata": {},
   "outputs": [],
   "source": [
    "# train df\n",
    "one_hot_protocol = pd.get_dummies(balanced_train_df[\"protocol\"])\n",
    "balanced_train_df.drop(\"protocol\", axis=1, inplace=True)\n",
    "balanced_train_df[\"UDP_protocol\"] = one_hot_protocol[17]\n",
    "balanced_train_df[\"TCP_protocol\"] = one_hot_protocol[6]\n",
    "balanced_train_df[\"ICMP_protocol\"] = one_hot_protocol[1]\n",
    "# test_df\n",
    "one_hot_protocol = pd.get_dummies(test_df[\"protocol\"])\n",
    "test_df.drop(\"protocol\", axis=1, inplace=True)\n",
    "test_df[\"UDP_protocol\"] = one_hot_protocol[17]\n",
    "test_df[\"TCP_protocol\"] = one_hot_protocol[6]\n",
    "test_df[\"ICMP_protocol\"] = one_hot_protocol[1]\n",
    "# val df\n",
    "one_hot_protocol = pd.get_dummies(val_df[\"protocol\"])\n",
    "val_df.drop(\"protocol\", axis=1, inplace=True)\n",
    "val_df[\"UDP_protocol\"] = one_hot_protocol[17]\n",
    "val_df[\"TCP_protocol\"] = one_hot_protocol[6]\n",
    "val_df[\"ICMP_protocol\"] = one_hot_protocol[1]"
   ]
  },
  {
   "cell_type": "code",
   "execution_count": 13,
   "id": "c2f74a2e",
   "metadata": {},
   "outputs": [
    {
     "data": {
      "text/html": [
       "<div>\n",
       "<style scoped>\n",
       "    .dataframe tbody tr th:only-of-type {\n",
       "        vertical-align: middle;\n",
       "    }\n",
       "\n",
       "    .dataframe tbody tr th {\n",
       "        vertical-align: top;\n",
       "    }\n",
       "\n",
       "    .dataframe thead th {\n",
       "        text-align: right;\n",
       "    }\n",
       "</style>\n",
       "<table border=\"1\" class=\"dataframe\">\n",
       "  <thead>\n",
       "    <tr style=\"text-align: right;\">\n",
       "      <th></th>\n",
       "      <th>flow_id</th>\n",
       "      <th>pckt_received</th>\n",
       "      <th>byte_received</th>\n",
       "      <th>avg_pckt_size</th>\n",
       "      <th>label</th>\n",
       "      <th>UDP_protocol</th>\n",
       "      <th>TCP_protocol</th>\n",
       "      <th>ICMP_protocol</th>\n",
       "    </tr>\n",
       "  </thead>\n",
       "  <tbody>\n",
       "    <tr>\n",
       "      <th>0</th>\n",
       "      <td>00:00:00:00:00:03_00:0c:29:92:12:d8_53298_443_6</td>\n",
       "      <td>1</td>\n",
       "      <td>54</td>\n",
       "      <td>54.000000</td>\n",
       "      <td>benign</td>\n",
       "      <td>0</td>\n",
       "      <td>1</td>\n",
       "      <td>0</td>\n",
       "    </tr>\n",
       "    <tr>\n",
       "      <th>1</th>\n",
       "      <td>00:00:00:00:00:01_00:00:00:00:00:04_38132_80_6</td>\n",
       "      <td>1</td>\n",
       "      <td>174</td>\n",
       "      <td>174.000000</td>\n",
       "      <td>attack</td>\n",
       "      <td>0</td>\n",
       "      <td>1</td>\n",
       "      <td>0</td>\n",
       "    </tr>\n",
       "    <tr>\n",
       "      <th>2</th>\n",
       "      <td>00:00:00:00:00:01_00:00:00:00:00:04_27866_80_17</td>\n",
       "      <td>2</td>\n",
       "      <td>84</td>\n",
       "      <td>42.000000</td>\n",
       "      <td>attack</td>\n",
       "      <td>1</td>\n",
       "      <td>0</td>\n",
       "      <td>0</td>\n",
       "    </tr>\n",
       "    <tr>\n",
       "      <th>3</th>\n",
       "      <td>00:0c:29:92:12:c4_00:0c:29:fa:dd:2a_46705_80_6</td>\n",
       "      <td>9</td>\n",
       "      <td>670</td>\n",
       "      <td>74.444444</td>\n",
       "      <td>attack</td>\n",
       "      <td>0</td>\n",
       "      <td>1</td>\n",
       "      <td>0</td>\n",
       "    </tr>\n",
       "    <tr>\n",
       "      <th>4</th>\n",
       "      <td>00:50:56:f2:90:f8_00:00:00:00:00:03_443_55162_6</td>\n",
       "      <td>12</td>\n",
       "      <td>11757</td>\n",
       "      <td>979.750000</td>\n",
       "      <td>benign</td>\n",
       "      <td>0</td>\n",
       "      <td>1</td>\n",
       "      <td>0</td>\n",
       "    </tr>\n",
       "  </tbody>\n",
       "</table>\n",
       "</div>"
      ],
      "text/plain": [
       "                                           flow_id  pckt_received  \\\n",
       "0  00:00:00:00:00:03_00:0c:29:92:12:d8_53298_443_6              1   \n",
       "1   00:00:00:00:00:01_00:00:00:00:00:04_38132_80_6              1   \n",
       "2  00:00:00:00:00:01_00:00:00:00:00:04_27866_80_17              2   \n",
       "3   00:0c:29:92:12:c4_00:0c:29:fa:dd:2a_46705_80_6              9   \n",
       "4  00:50:56:f2:90:f8_00:00:00:00:00:03_443_55162_6             12   \n",
       "\n",
       "   byte_received  avg_pckt_size   label  UDP_protocol  TCP_protocol  \\\n",
       "0             54      54.000000  benign             0             1   \n",
       "1            174     174.000000  attack             0             1   \n",
       "2             84      42.000000  attack             1             0   \n",
       "3            670      74.444444  attack             0             1   \n",
       "4          11757     979.750000  benign             0             1   \n",
       "\n",
       "   ICMP_protocol  \n",
       "0              0  \n",
       "1              0  \n",
       "2              0  \n",
       "3              0  \n",
       "4              0  "
      ]
     },
     "execution_count": 13,
     "metadata": {},
     "output_type": "execute_result"
    }
   ],
   "source": [
    "balanced_train_df.head()"
   ]
  },
  {
   "cell_type": "code",
   "execution_count": 14,
   "id": "a3b98be7",
   "metadata": {},
   "outputs": [],
   "source": [
    "features = [\"pckt_received\", \"byte_received\", \"avg_pckt_size\", \"UDP_protocol\", \"TCP_protocol\", \"ICMP_protocol\"]\n",
    "X_train = balanced_train_df[features]\n",
    "X_test = test_df[features]\n",
    "X_val = val_df[features]\n",
    "y_train = balanced_train_df[\"label\"]\n",
    "y_test = test_df[\"label\"]\n",
    "y_val = val_df[\"label\"]"
   ]
  },
  {
   "cell_type": "code",
   "execution_count": 15,
   "id": "f21dd324",
   "metadata": {},
   "outputs": [],
   "source": [
    "# Scaling the data\n",
    "train_scaler = StandardScaler()\n",
    "train_scaled_X = train_scaler.fit_transform(X_train)\n",
    "val_scaled_X = train_scaler.transform(X_val)\n",
    "test_scaled_X = train_scaler.transform(X_test)"
   ]
  },
  {
   "cell_type": "code",
   "execution_count": 16,
   "id": "219abb0b",
   "metadata": {},
   "outputs": [],
   "source": [
    "# Label preparation for RandomForest\n",
    "le = LabelEncoder()\n",
    "le.fit(y_train)\n",
    "#y_test_encoded = le.transform(y_test)\n",
    "#y_val_encoded = le.transform(y_val)\n",
    "y_train_encoded = le.transform(y_train)"
   ]
  },
  {
   "cell_type": "code",
   "execution_count": 17,
   "id": "904e8f73",
   "metadata": {},
   "outputs": [
    {
     "data": {
      "text/plain": [
       "array([0, 1])"
      ]
     },
     "execution_count": 17,
     "metadata": {},
     "output_type": "execute_result"
    }
   ],
   "source": [
    "le.transform([\"attack\", \"benign\"])"
   ]
  },
  {
   "cell_type": "code",
   "execution_count": 21,
   "id": "1ca178d7",
   "metadata": {},
   "outputs": [],
   "source": [
    "RF_model = RandomForestClassifier()\n",
    "# Train the model on training data\n",
    "RF_model.fit(train_scaled_X, y_train_encoded)\n",
    "\n",
    "#Now predict using the trained RF model. \n",
    "prediction_RF = RF_model.predict(val_scaled_X)\n",
    "#Inverse le transform to get original label back. \n",
    "prediction_RF = le.inverse_transform(prediction_RF)"
   ]
  },
  {
   "cell_type": "code",
   "execution_count": 22,
   "id": "568e5efe",
   "metadata": {},
   "outputs": [
    {
     "name": "stdout",
     "output_type": "stream",
     "text": [
      "Accuracy =  0.9940235027866475\n",
      "Precision =  0.9754811943746065\n",
      "Recall =  0.9914759191569145\n",
      "F1 =  0.9833087539621761\n",
      "[[414077   2231]\n",
      " [   526  44473]]\n"
     ]
    },
    {
     "data": {
      "text/plain": [
       "<AxesSubplot:>"
      ]
     },
     "execution_count": 22,
     "metadata": {},
     "output_type": "execute_result"
    },
    {
     "data": {
      "image/png": "[encoded data removed]",
      "text/plain": [
       "<Figure size 432x288 with 2 Axes>"
      ]
     },
     "metadata": {},
     "output_type": "display_data"
    }
   ],
   "source": [
    "print(\"Accuracy = \", metrics.accuracy_score(y_val, prediction_RF))\n",
    "print(\"Precision = \", metrics.precision_score(y_val, prediction_RF, average='macro'))\n",
    "print(\"Recall = \", metrics.recall_score(y_val, prediction_RF, average='macro'))\n",
    "print(\"F1 = \", metrics.f1_score(y_val, prediction_RF, average='macro'))\n",
    "#Confusion Matrix - verify accuracy of each class\n",
    "cm = confusion_matrix(y_val, prediction_RF)\n",
    "print(cm)\n",
    "sns.heatmap(cm, annot=True, fmt='.10g')"
   ]
  },
  {
   "cell_type": "code",
   "execution_count": 23,
   "id": "a6cd37c3",
   "metadata": {},
   "outputs": [],
   "source": [
    "import pickle\n",
    "pickle.dump(RF_model, open(\"./Random_Forest.sav\", 'wb'))"
   ]
  },
  {
   "cell_type": "markdown",
   "id": "386e6491",
   "metadata": {},
   "source": [
    "## XGBoost"
   ]
  },
  {
   "cell_type": "code",
   "execution_count": 20,
   "id": "471e903a",
   "metadata": {},
   "outputs": [],
   "source": [
    "xgb_model = xgb.XGBClassifier(objective=\"binary:logistic\", random_state=42)\n",
    "xgb_model.fit(train_scaled_X, y_train_encoded)\n",
    "\n",
    "prediction_xgb = xgb_model.predict(val_scaled_X)\n",
    "#Inverse le transform to get original label back. \n",
    "prediction_xgb = le.inverse_transform(prediction_xgb)"
   ]
  },
  {
   "cell_type": "code",
   "execution_count": 21,
   "id": "2310a27d",
   "metadata": {},
   "outputs": [
    {
     "name": "stdout",
     "output_type": "stream",
     "text": [
      "Accuracy =  0.9931065429312801\n",
      "Precision =  0.9721068377924091\n",
      "Recall =  0.9898876565027444\n",
      "F1 =  0.980786056827557\n",
      "[[413763   2545]\n",
      " [   635  44364]]\n"
     ]
    },
    {
     "data": {
      "text/plain": [
       "<AxesSubplot:>"
      ]
     },
     "execution_count": 21,
     "metadata": {},
     "output_type": "execute_result"
    },
    {
     "data": {
      "image/png": "[encoded data removed]",
      "text/plain": [
       "<Figure size 432x288 with 2 Axes>"
      ]
     },
     "metadata": {},
     "output_type": "display_data"
    }
   ],
   "source": [
    "print(\"Accuracy = \", metrics.accuracy_score(y_val, prediction_xgb))\n",
    "print(\"Precision = \", metrics.precision_score(y_val, prediction_xgb, average='macro'))\n",
    "print(\"Recall = \", metrics.recall_score(y_val, prediction_xgb, average='macro'))\n",
    "print(\"F1 = \", metrics.f1_score(y_val, prediction_xgb, average='macro'))\n",
    "#Confusion Matrix - verify accuracy of each class\n",
    "cm = confusion_matrix(y_val, prediction_xgb)\n",
    "print(cm)\n",
    "sns.heatmap(cm, annot=True, fmt='.10g')"
   ]
  },
  {
   "cell_type": "code",
   "execution_count": 22,
   "id": "4c5dfb57",
   "metadata": {},
   "outputs": [],
   "source": [
    "# see avg row per flow in test set\n",
    "# prepare new test set, see the result (keeping first 5/10 second data)\n",
    "# downsample existing test set to compare with step 2\n",
    "# apply DL or other techniques to improve precision"
   ]
  },
  {
   "cell_type": "code",
   "execution_count": 23,
   "id": "b8abe0e8",
   "metadata": {},
   "outputs": [
    {
     "data": {
      "text/plain": [
       "461307"
      ]
     },
     "execution_count": 23,
     "metadata": {},
     "output_type": "execute_result"
    }
   ],
   "source": [
    "len(val_df)"
   ]
  },
  {
   "cell_type": "code",
   "execution_count": 24,
   "id": "f35dc3a6",
   "metadata": {},
   "outputs": [
    {
     "data": {
      "text/plain": [
       "123458"
      ]
     },
     "execution_count": 24,
     "metadata": {},
     "output_type": "execute_result"
    }
   ],
   "source": [
    "len(val_df[\"flow_id\"].unique())"
   ]
  },
  {
   "cell_type": "code",
   "execution_count": 25,
   "id": "380abab7",
   "metadata": {},
   "outputs": [],
   "source": [
    "res = {} # flow_id: count\n",
    "\n",
    "for i in range(0, len(val_df['flow_id'])):\n",
    "    if val_df['flow_id'][i] in res.keys():\n",
    "        res[val_df['flow_id'][i]] += 1\n",
    "    else:\n",
    "        res[val_df['flow_id'][i]] = 1"
   ]
  },
  {
   "cell_type": "code",
   "execution_count": 26,
   "id": "de8af6bd",
   "metadata": {},
   "outputs": [
    {
     "name": "stdout",
     "output_type": "stream",
     "text": [
      "Avg rows per flow:  3.7365500818091983\n"
     ]
    }
   ],
   "source": [
    "count = 0\n",
    "for k,v in res.items():\n",
    "    count+=v\n",
    "print(\"Avg rows per flow: \", count/len(res.keys()))"
   ]
  },
  {
   "cell_type": "code",
   "execution_count": 18,
   "id": "b7d4f362",
   "metadata": {},
   "outputs": [
    {
     "name": "stdout",
     "output_type": "stream",
     "text": [
      "Length of old val set:  461307\n"
     ]
    },
    {
     "name": "stderr",
     "output_type": "stream",
     "text": [
      "100%|███████████████████████████████████████████████████████████████████████████████████████████████████████████████| 461307/461307 [2:13:07<00:00, 57.75it/s]\n"
     ]
    },
    {
     "name": "stdout",
     "output_type": "stream",
     "text": [
      "Length of new val set:  123458\n"
     ]
    }
   ],
   "source": [
    "# prepare new test set\n",
    "N = 1\n",
    "res = {} # flow_id: count\n",
    "print(\"Length of old val set: \", len(val_df))\n",
    "for i in tqdm(range(0, len(val_df['flow_id']))):\n",
    "    if val_df['flow_id'][i] in res.keys():\n",
    "        res[val_df['flow_id'][i]] += 1\n",
    "        if res[val_df['flow_id'][i]] > N:\n",
    "            val_df.drop(i, inplace=True)\n",
    "    else:\n",
    "        res[val_df['flow_id'][i]] = 1\n",
    "print(\"Length of new val set: \", len(val_df))\n",
    "val_df.to_csv(\"./val_df_\"+str(N)+\".csv\")"
   ]
  },
  {
   "cell_type": "code",
   "execution_count": 19,
   "id": "761e6607",
   "metadata": {},
   "outputs": [
    {
     "name": "stderr",
     "output_type": "stream",
     "text": [
      "100%|████████████████████████████████████████████████████████████████████████████████████████████████████████████████| 123458/123458 [15:50<00:00, 129.93it/s]\n"
     ]
    },
    {
     "name": "stdout",
     "output_type": "stream",
     "text": [
      "Accuracy =  0.9917461808874273\n",
      "Precision =  0.9655018336089678\n",
      "Recall =  0.9857357774331803\n",
      "F1 =  0.9753480766923683\n",
      "[[111565    779]\n",
      " [   240  10874]]\n"
     ]
    },
    {
     "data": {
      "text/plain": [
       "<AxesSubplot:>"
      ]
     },
     "execution_count": 19,
     "metadata": {},
     "output_type": "execute_result"
    },
    {
     "data": {
      "image/png": "[encoded data removed]",
      "text/plain": [
       "<Figure size 432x288 with 2 Axes>"
      ]
     },
     "metadata": {},
     "output_type": "display_data"
    }
   ],
   "source": [
    "# majority voting evaluation\n",
    "import pickle\n",
    "RF_model = pickle.load(open(\"./Random_Forest.sav\", 'rb'))\n",
    "\n",
    "pred = {} # flow_id : [prediction]\n",
    "true = {}\n",
    "\n",
    "val_df = val_df.reset_index(drop=True)\n",
    "\n",
    "X_val = val_df[features]\n",
    "y_val = val_df[\"label\"]\n",
    "val_scaled_X = train_scaler.transform(X_val)\n",
    "# import pdb;pdb.set_trace()\n",
    "for i in tqdm(range(0, len(val_df['flow_id']))):\n",
    "    if val_df['flow_id'][i] in pred.keys():\n",
    "        pred[val_df['flow_id'][i]].append(le.inverse_transform(RF_model.predict(val_scaled_X[i].reshape(1,-1))))\n",
    "        true[val_df['flow_id'][i]].append(y_val[i])\n",
    "    else:\n",
    "        pred[val_df['flow_id'][i]] = [le.inverse_transform(RF_model.predict(val_scaled_X[i].reshape(1,-1)))]\n",
    "        true[val_df['flow_id'][i]] = [y_val[i]]\n",
    "\n",
    "final_pred = []\n",
    "final_act = []\n",
    "\n",
    "for k,v in pred.items():\n",
    "    final_pred.append(max(pred[k], key=pred[k].count))\n",
    "    final_act.append(max(true[k], key=true[k].count))\n",
    "    \n",
    "print(\"Accuracy = \", metrics.accuracy_score(final_act, final_pred))\n",
    "print(\"Precision = \", metrics.precision_score(final_act, final_pred, average='macro'))\n",
    "print(\"Recall = \", metrics.recall_score(final_act, final_pred, average='macro'))\n",
    "print(\"F1 = \", metrics.f1_score(final_act, final_pred, average='macro'))\n",
    "#Confusion Matrix - verify accuracy of each class\n",
    "cm = confusion_matrix(final_act, final_pred)\n",
    "print(cm)\n",
    "sns.heatmap(cm, annot=True, fmt='.10g')"
   ]
  },
  {
   "cell_type": "code",
   "execution_count": 19,
   "id": "1471a9fb",
   "metadata": {},
   "outputs": [
    {
     "name": "stdout",
     "output_type": "stream",
     "text": [
      "Accuracy =  0.9917461808874273\n",
      "Precision =  0.9655018336089678\n",
      "Recall =  0.9857357774331803\n",
      "F1 =  0.9753480766923683\n",
      "[[111565    779]\n",
      " [   240  10874]]\n"
     ]
    },
    {
     "data": {
      "text/plain": [
       "<AxesSubplot:>"
      ]
     },
     "execution_count": 19,
     "metadata": {},
     "output_type": "execute_result"
    },
    {
     "data": {
      "image/png": "[encoded data removed]",
      "text/plain": [
       "<Figure size 432x288 with 2 Axes>"
      ]
     },
     "metadata": {},
     "output_type": "display_data"
    }
   ],
   "source": [
    "import pickle\n",
    "RF_model = pickle.load(open(\"./Random_Forest.sav\", 'rb'))\n",
    "\n",
    "X_val = val_df[features]\n",
    "y_val = val_df[\"label\"]\n",
    "val_scaled_X = train_scaler.transform(X_val)\n",
    "\n",
    "#Now predict using the trained RF model. \n",
    "prediction_RF = RF_model.predict(val_scaled_X)\n",
    "#Inverse le transform to get original label back. \n",
    "prediction_RF = le.inverse_transform(prediction_RF)\n",
    "\n",
    "print(\"Accuracy = \", metrics.accuracy_score(y_val, prediction_RF))\n",
    "print(\"Precision = \", metrics.precision_score(y_val, prediction_RF, average='macro'))\n",
    "print(\"Recall = \", metrics.recall_score(y_val, prediction_RF, average='macro'))\n",
    "print(\"F1 = \", metrics.f1_score(y_val, prediction_RF, average='macro'))\n",
    "#Confusion Matrix - verify accuracy of each class\n",
    "cm = confusion_matrix(y_val, prediction_RF)\n",
    "print(cm)\n",
    "sns.heatmap(cm, annot=True, fmt='.10g')"
   ]
  },
  {
   "cell_type": "code",
   "execution_count": 20,
   "id": "e63a18ee",
   "metadata": {},
   "outputs": [
    {
     "data": {
      "text/plain": [
       "<BarContainer object of 2 artists>"
      ]
     },
     "execution_count": 20,
     "metadata": {},
     "output_type": "execute_result"
    },
    {
     "data": {
      "image/png": "[encoded data removed]",
      "text/plain": [
       "<Figure size 432x288 with 1 Axes>"
      ]
     },
     "metadata": {},
     "output_type": "display_data"
    }
   ],
   "source": [
    "plt.bar([\"Attack\", \"Benign\"], [len(val_df[val_df[\"label\"]==\"attack\"]),\\\n",
    "                               len(val_df[val_df[\"label\"]==\"benign\"])])"
   ]
  },
  {
   "cell_type": "code",
   "execution_count": 15,
   "id": "4876bca0",
   "metadata": {},
   "outputs": [
    {
     "data": {
      "text/plain": [
       "Text(0, 0.5, 'Precision')"
      ]
     },
     "execution_count": 15,
     "metadata": {},
     "output_type": "execute_result"
    },
    {
     "data": {
      "image/png": "[encoded data removed]",
      "text/plain": [
       "<Figure size 432x288 with 1 Axes>"
      ]
     },
     "metadata": {},
     "output_type": "display_data"
    }
   ],
   "source": [
    "points = [96.55, 96.55, 96.87, 96.87, 96.86]\n",
    "\n",
    "# default_y_ticks = [x for x in range(95,98,1)]\n",
    "plt.plot([1,2,3,4,5],points, marker=\"*\", markersize=12)\n",
    "plt.xlabel(\"N\")\n",
    "plt.ylabel(\"Precision\")\n",
    "# plt.yticks(default_y_ticks, default_y_ticks)"
   ]
  },
  {
   "cell_type": "code",
   "execution_count": 14,
   "id": "aa3801a4",
   "metadata": {},
   "outputs": [
    {
     "data": {
      "text/plain": [
       "Text(0, 0.5, 'Accuracy')"
      ]
     },
     "execution_count": 14,
     "metadata": {},
     "output_type": "execute_result"
    },
    {
     "data": {
      "image/png": "[encoded data removed]",
      "text/plain": [
       "<Figure size 432x288 with 1 Axes>"
      ]
     },
     "metadata": {},
     "output_type": "display_data"
    }
   ],
   "source": [
    "points = [99.17, 99.17, 99.28, 99.27, 99.27]\n",
    "\n",
    "# default_y_ticks = [x for x in range(98,101,1)]\n",
    "plt.plot([1,2,3,4,5],points, marker=\"*\", markersize=12)\n",
    "plt.xlabel(\"N\")\n",
    "plt.ylabel(\"Accuracy\")\n",
    "# plt.yticks(default_y_ticks, default_y_ticks)"
   ]
  },
  {
   "cell_type": "code",
   "execution_count": null,
   "id": "11466612",
   "metadata": {},
   "outputs": [],
   "source": []
  }
 ],
 "metadata": {
  "kernelspec": {
   "display_name": "Python 3 (ipykernel)",
   "language": "python",
   "name": "python3"
  },
  "language_info": {
   "codemirror_mode": {
    "name": "ipython",
    "version": 3
   },
   "file_extension": ".py",
   "mimetype": "text/x-python",
   "name": "python",
   "nbconvert_exporter": "python",
   "pygments_lexer": "ipython3",
   "version": "3.8.10"
  }
 },
 "nbformat": 4,
 "nbformat_minor": 5
}
